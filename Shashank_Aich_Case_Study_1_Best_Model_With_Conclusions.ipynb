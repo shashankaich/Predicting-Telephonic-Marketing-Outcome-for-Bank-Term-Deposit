{
 "cells": [
  {
   "cell_type": "markdown",
   "metadata": {},
   "source": [
    "# Predicting Telephonic Marketing Outcome for Bank Term Deposit"
   ]
  },
  {
   "cell_type": "markdown",
   "metadata": {
    "toc": true
   },
   "source": [
    "<h1>Table of Contents<span class=\"tocSkip\"></span></h1>\n",
    "<div class=\"toc\"><ul class=\"toc-item\"><li><span><a href=\"#Data-Set-Information:\" data-toc-modified-id=\"Data-Set-Information:-1\"><span class=\"toc-item-num\">1&nbsp;&nbsp;</span>Data Set Information:</a></span></li><li><span><a href=\"#Attribute-Information:\" data-toc-modified-id=\"Attribute-Information:-2\"><span class=\"toc-item-num\">2&nbsp;&nbsp;</span>Attribute Information:</a></span><ul class=\"toc-item\"><li><span><a href=\"#Input-variables:\" data-toc-modified-id=\"Input-variables:-2.1\"><span class=\"toc-item-num\">2.1&nbsp;&nbsp;</span>Input variables:</a></span></li></ul></li><li><span><a href=\"#Utility-Functions\" data-toc-modified-id=\"Utility-Functions-3\"><span class=\"toc-item-num\">3&nbsp;&nbsp;</span>Utility Functions</a></span></li><li><span><a href=\"#Reading-Data\" data-toc-modified-id=\"Reading-Data-4\"><span class=\"toc-item-num\">4&nbsp;&nbsp;</span>Reading Data</a></span><ul class=\"toc-item\"><li><span><a href=\"#Removing-hyphen-and-dot-from-the-categorical-feature-names\" data-toc-modified-id=\"Removing-hyphen-and-dot-from-the-categorical-feature-names-4.1\"><span class=\"toc-item-num\">4.1&nbsp;&nbsp;</span>Removing hyphen and dot from the categorical feature names</a></span></li><li><span><a href=\"#Adding-Engineered-Categorical-Features\" data-toc-modified-id=\"Adding-Engineered-Categorical-Features-4.2\"><span class=\"toc-item-num\">4.2&nbsp;&nbsp;</span>Adding Engineered Categorical Features</a></span></li><li><span><a href=\"#Adding-Engineered-Sin-Features\" data-toc-modified-id=\"Adding-Engineered-Sin-Features-4.3\"><span class=\"toc-item-num\">4.3&nbsp;&nbsp;</span>Adding Engineered Sin Features</a></span></li><li><span><a href=\"#Lets-do-a-Train-Test-Split\" data-toc-modified-id=\"Lets-do-a-Train-Test-Split-4.4\"><span class=\"toc-item-num\">4.4&nbsp;&nbsp;</span>Lets do a Train-Test Split</a></span></li><li><span><a href=\"#Standardizing-the-Features-in-the-Train,-CV-and-Test-Datasets\" data-toc-modified-id=\"Standardizing-the-Features-in-the-Train,-CV-and-Test-Datasets-4.5\"><span class=\"toc-item-num\">4.5&nbsp;&nbsp;</span>Standardizing the Features in the Train, CV and Test Datasets</a></span></li></ul></li><li><span><a href=\"#Machine-Learning-Models\" data-toc-modified-id=\"Machine-Learning-Models-5\"><span class=\"toc-item-num\">5&nbsp;&nbsp;</span>Machine Learning Models</a></span><ul class=\"toc-item\"><li><span><a href=\"#Training-the-Best-Model\" data-toc-modified-id=\"Training-the-Best-Model-5.1\"><span class=\"toc-item-num\">5.1&nbsp;&nbsp;</span>Training the Best Model</a></span></li></ul></li><li><span><a href=\"#Conclusions\" data-toc-modified-id=\"Conclusions-6\"><span class=\"toc-item-num\">6&nbsp;&nbsp;</span>Conclusions</a></span></li><li><span><a href=\"#References\" data-toc-modified-id=\"References-7\"><span class=\"toc-item-num\">7&nbsp;&nbsp;</span>References</a></span></li></ul></div>"
   ]
  },
  {
   "cell_type": "markdown",
   "metadata": {},
   "source": [
    "## Data Set Information:"
   ]
  },
  {
   "cell_type": "markdown",
   "metadata": {},
   "source": [
    "The data is related with direct marketing campaigns of a Portuguese banking institution. The marketing campaigns were based on phone calls. Often, more than one contact to the same client was required, in order to access if the product (bank term deposit) would be ('yes') or not ('no') subscribed.\n",
    "\n",
    "There are four datasets:\n",
    "1. bank-additional-full.csv with all examples (41188) and 20 inputs, ordered by date (from May 2008 to November 2010), very close to the data analyzed in [Moro et al., 2014]\n",
    "2. bank-additional.csv with 10% of the examples (4119), randomly selected from 1), and 20 inputs.\n",
    "3. bank-full.csv with all examples and 17 inputs, ordered by date (older version of this dataset with less inputs).\n",
    "4. bank.csv with 10% of the examples and 17 inputs, randomly selected from 3 (older version of this dataset with less inputs).\n",
    "The smallest datasets are provided to test more computationally demanding machine learning algorithms (e.g., SVM).\n",
    "\n",
    "The classification goal is to predict if the client will subscribe (yes/no) a term deposit (variable y).\n",
    "\n",
    "__In this Case Study we will take the new Dataset bank-additional-full.csv__"
   ]
  },
  {
   "cell_type": "markdown",
   "metadata": {},
   "source": [
    "## Attribute Information:"
   ]
  },
  {
   "cell_type": "markdown",
   "metadata": {},
   "source": [
    "### Input variables:\n",
    "\n",
    "__bank_additional client data:__\n",
    "   1. age (numeric)\n",
    "   2. job : type of job (categorical: \"admin.\",\"blue-collar\",\"entrepreneur\",\"housemaid\",\"management\",\"retired\",\"self-employed\",\"services\",\"student\",\"technician\",\"unemployed\",\"unknown\")\n",
    "   3. marital : marital status (categorical: \"divorced\",\"married\",\"single\",\"unknown\"; note: \"divorced\" means divorced or widowed)\n",
    "   4. education (categorical: \"basic.4y\",\"basic.6y\",\"basic.9y\",\"high.school\",\"illiterate\",\"professional.course\",\"university.degree\",\"unknown\")\n",
    "   5. default: has credit in default? (categorical: \"no\",\"yes\",\"unknown\")\n",
    "   6. housing: has housing loan? (categorical: \"no\",\"yes\",\"unknown\")\n",
    "   7. loan: has personal loan? (categorical: \"no\",\"yes\",\"unknown\")\n",
    "   \n",
    "__related with the last contact of the current campaign:__\n",
    "   8. contact: contact communication type (categorical: \"cellular\",\"telephone\") \n",
    "   9. month: last contact month of year (categorical: \"jan\", \"feb\", \"mar\", ..., \"nov\", \"dec\")\n",
    "   10. day_of_week: last contact day of the week (categorical: \"mon\",\"tue\",\"wed\",\"thu\",\"fri\")\n",
    "   11. duration: last contact duration, in seconds (numeric). Important note:  this attribute highly affects the output target (e.g., if duration=0 then y=\"no\"). Yet, the duration is not known before a call is performed. Also, after the end of the call y is obviously known. Thus, this input should only be included for benchmark purposes and should be discarded if the intention is to have a realistic predictive model.\n",
    "   \n",
    "__other attributes:__\n",
    "   12. campaign: number of contacts performed during this campaign and for this client (numeric, includes last contact)\n",
    "   13. pdays: number of days that passed by after the client was last contacted from a previous campaign (numeric; 999 means client was not previously contacted)\n",
    "   14. previous: number of contacts performed before this campaign and for this client (numeric)\n",
    "   15. poutcome: outcome of the previous marketing campaign (categorical: \"failure\",\"nonexistent\",\"success\")\n",
    "   \n",
    "__social and economic context attributes:__\n",
    "   16. emp.var.rate: employment variation rate - quarterly indicator (numeric)\n",
    "   17. cons.price.idx: consumer price index - monthly indicator (numeric)     \n",
    "   18. cons.conf.idx: consumer confidence index - monthly indicator (numeric)     \n",
    "   19. euribor3m: euribor 3 month rate - daily indicator (numeric)\n",
    "   20. nr.employed: number of employees - quarterly indicator (numeric)\n",
    "\n",
    "__Output variable (desired target):__\n",
    "   21. y - has the client subscribed a term deposit? (binary: \"yes\",\"no\")\n",
    "   \n",
    "__Missing Attribute Values: There are several missing values in some categorical attributes, all coded with the \"unknown\" label. These missing values can be treated as a possible class label or using deletion or imputation techniques.__"
   ]
  },
  {
   "cell_type": "markdown",
   "metadata": {},
   "source": [
    "## Utility Functions"
   ]
  },
  {
   "cell_type": "code",
   "execution_count": 1,
   "metadata": {
    "ExecuteTime": {
     "end_time": "2020-04-02T11:12:47.541437Z",
     "start_time": "2020-04-02T11:12:47.535924Z"
    }
   },
   "outputs": [],
   "source": [
    "#function that will return the sine of the feature\n",
    "def return_sin(x):\n",
    "    return(np.sin(x))"
   ]
  },
  {
   "cell_type": "code",
   "execution_count": 2,
   "metadata": {},
   "outputs": [],
   "source": [
    "#This function will take a list of features and Return the combination of 2 attributes ie nC2 \n",
    "#wherein n = length of the list and the features will be used for ploting pairplots\n",
    "def return_nc2(x):\n",
    "    com = combinations(x, 2)\n",
    "    return com"
   ]
  },
  {
   "cell_type": "code",
   "execution_count": 3,
   "metadata": {},
   "outputs": [],
   "source": [
    "#This function will plot the scatter plots given an array of features and the data\n",
    "def plotscatter(d, f):\n",
    "    #get the combinations of the features\n",
    "    f2 = list(return_nc2(f))\n",
    "    #get length of combination\n",
    "    n = len(f2)\n",
    "    #initialize the \n",
    "    fig = [random.random() for z in range(45)]\n",
    "    axes = [random.random() for z in range(45)]\n",
    "    #plot all subplots\n",
    "    for i in range(0, n):\n",
    "        #plotting the scatterplot\n",
    "        fig[i], axes[i] = plt.subplots(figsize=(20, 10))\n",
    "        sns.scatterplot(x=f2[i][0], y=f2[i][1], hue='y', data=d, ax=axes[i])"
   ]
  },
  {
   "cell_type": "code",
   "execution_count": 4,
   "metadata": {},
   "outputs": [],
   "source": [
    "#These functions will convert the numerical data to categorical data\n",
    "#pdays, cons.price.idx, cons.conf.idx, nr.employed\n",
    "\n",
    "\n",
    "#convert pdays to pdays_cat\n",
    "def convert_pdays_cat(x):\n",
    "    #threshold=512.5 if t<=512.5 then pdays_cat_yes else pdays_cat_no\n",
    "    x['pdays_cat'] = np.where(x['pdays'] <= 513, 'pdays_cat_yes',\n",
    "                              'pdays_cat_no')\n",
    "\n",
    "\n",
    "#convert cons.price.idx to cons.price.idx_cat\n",
    "def convert_cons_price_idx_cat(x):\n",
    "    #threshold=92.868 if t<=92.868 then cons_price_idx_cat_yes else cons_price_idx_cat_no\n",
    "    x['cons.price.idx_cat'] = np.where(x['cons.price.idx'] <= 92.868,\n",
    "                                       'cons_price_idx_yes',\n",
    "                                       'cons_price_idx_no')\n",
    "\n",
    "\n",
    "#convert cons.conf.idx to cons.conf.idx_cat\n",
    "def convert_cons_conf_idx_cat(x):\n",
    "    #threshold = -35.45 if t<=-35.45 then cons_conf_idx_cat_no else cons_conf_idx_cat_yes\n",
    "    x['cons.conf.idx_cat'] = np.where(x['cons.conf.idx'] <= -35.45,\n",
    "                                      'cons_conf_idx_cat_no',\n",
    "                                      'cons_conf_idx_cat_yes')\n",
    "\n",
    "\n",
    "#convert nr.employed to nr.employed_cat\n",
    "def convert_nr_employed_cat(x):\n",
    "    #threshold=5087.65 if t<=5087.65 then nr_employed_cat_yes else nr_employed_cat_no\n",
    "    x['nr.employed_cat'] = np.where(x['nr.employed'] <= 5087.65,\n",
    "                                    'nr_employed_cat_yes',\n",
    "                                    'nr_employed_cat_no')"
   ]
  },
  {
   "cell_type": "code",
   "execution_count": 5,
   "metadata": {},
   "outputs": [],
   "source": [
    "#Now we need to add the engineered features to the cv and the test datasets as well\n",
    "#hence we create a function for doing the same\n",
    "def add_features(x_data):\n",
    "    #add y label to the data\n",
    "    y_label = x_data['y']  #get y label\n",
    "    le = LabelEncoder()\n",
    "    output = le.fit_transform(y_label)  #transform the y label to 0/1 form\n",
    "    x_data['output'] = output\n",
    "\n",
    "    #remove the y label and output label\n",
    "    x_data.drop(['y'], axis=1, inplace=True)\n",
    "    y_data = x_data['output']\n",
    "    x_data.drop(['output'], axis=1, inplace=True)\n",
    "\n",
    "    #Add sine features to the dataset\n",
    "    fets = [\n",
    "        'age', 'duration', 'campaign', 'pdays', 'previous', 'emp.var.rate',\n",
    "        'cons.price.idx', 'cons.conf.idx', 'euribor3m', 'nr.employed'\n",
    "    ]  #Features for which sine functions will be added\n",
    "    for f in fets:\n",
    "        #get the sine feature for the feature f\n",
    "        tmp_sin = return_sin(x_data[f].values)\n",
    "        #create a str name f + '_sin' as the feature_name\n",
    "        f_name = f + '_sin'\n",
    "        #add sin feature to the data\n",
    "        x_data[f_name] = tmp_sin\n",
    "\n",
    "    #convert selected numerical data to categorical data based on the EDA\n",
    "    convert_pdays_cat(x_data)\n",
    "    convert_cons_price_idx_cat(x_data)\n",
    "    convert_cons_conf_idx_cat(x_data)\n",
    "    convert_nr_employed_cat(x_data)\n",
    "    return y_data"
   ]
  },
  {
   "cell_type": "code",
   "execution_count": 6,
   "metadata": {},
   "outputs": [],
   "source": [
    "# This function plots the confusion matrices given y_i, y_i_hat.\n",
    "def plot_confusion_matrix(test_y, predict_y):\n",
    "    C = confusion_matrix(test_y, predict_y)\n",
    "    # C = 9,9 matrix, each cell (i,j) represents number of points of class i are predicted class j\n",
    "    \n",
    "    A =(((C.T)/(C.sum(axis=1))).T)\n",
    "    #divid each element of the confusion matrix with the sum of elements in that column\n",
    "    \n",
    "    # C = [[1, 2],\n",
    "    #     [3, 4]]\n",
    "    # C.T = [[1, 3],\n",
    "    #        [2, 4]]\n",
    "    # C.sum(axis = 1)  axis=0 corresonds to columns and axis=1 corresponds to rows in two diamensional array\n",
    "    # C.sum(axix =1) = [[3, 7]]\n",
    "    # ((C.T)/(C.sum(axis=1))) = [[1/3, 3/7]\n",
    "    #                           [2/3, 4/7]]\n",
    "\n",
    "    # ((C.T)/(C.sum(axis=1))).T = [[1/3, 2/3]\n",
    "    #                           [3/7, 4/7]]\n",
    "    # sum of row elements = 1\n",
    "    \n",
    "    B =(C/C.sum(axis=0))\n",
    "    #divid each element of the confusion matrix with the sum of elements in that row\n",
    "    # C = [[1, 2],\n",
    "    #     [3, 4]]\n",
    "    # C.sum(axis = 0)  axis=0 corresonds to columns and axis=1 corresponds to rows in two diamensional array\n",
    "    # C.sum(axix =0) = [[4, 6]]\n",
    "    # (C/C.sum(axis=0)) = [[1/4, 2/6],\n",
    "    #                      [3/4, 4/6]] \n",
    "    plt.figure(figsize=(20,4))\n",
    "    \n",
    "    labels = [0,1]\n",
    "    # representing A in heatmap format\n",
    "    cmap=sns.light_palette(\"blue\")\n",
    "    plt.subplot(1, 3, 1)\n",
    "    sns.heatmap(C, annot=True, cmap=cmap, fmt=\".3f\", xticklabels=labels, yticklabels=labels)\n",
    "    plt.xlabel('Predicted Class')\n",
    "    plt.ylabel('Original Class')\n",
    "    plt.title(\"Confusion matrix\")\n",
    "    \n",
    "    plt.subplot(1, 3, 2)\n",
    "    sns.heatmap(B, annot=True, cmap=cmap, fmt=\".3f\", xticklabels=labels, yticklabels=labels)\n",
    "    plt.xlabel('Predicted Class')\n",
    "    plt.ylabel('Original Class')\n",
    "    plt.title(\"Precision matrix\")\n",
    "    \n",
    "    plt.subplot(1, 3, 3)\n",
    "    # representing B in heatmap format\n",
    "    sns.heatmap(A, annot=True, cmap=cmap, fmt=\".3f\", xticklabels=labels, yticklabels=labels)\n",
    "    plt.xlabel('Predicted Class')\n",
    "    plt.ylabel('Original Class')\n",
    "    plt.title(\"Recall matrix\")\n",
    "    \n",
    "    plt.show()"
   ]
  },
  {
   "cell_type": "code",
   "execution_count": 7,
   "metadata": {},
   "outputs": [],
   "source": [
    "#function to find maximum auc score and the parameters from the given numpy array\n",
    "def get_max_auc(arr):\n",
    "    max_auc = 0\n",
    "    k = 0\n",
    "    d = 0\n",
    "    for a in arr:\n",
    "        if max_auc < a[2]:\n",
    "            max_auc = a[2]\n",
    "            k = a[0]\n",
    "            d = a[1]\n",
    "    return max_auc, k, d"
   ]
  },
  {
   "cell_type": "code",
   "execution_count": 8,
   "metadata": {},
   "outputs": [],
   "source": [
    "#function to find minimum loss and the parameters from the given numpy array\n",
    "def get_min_loss(arr):\n",
    "    min_loss = 99999990\n",
    "    k = 0\n",
    "    d = 0\n",
    "    for a in arr:\n",
    "        if min_loss > a[2]:\n",
    "            min_loss = a[2]\n",
    "            k = a[0]\n",
    "            d = a[1]\n",
    "    return min_loss, k, d"
   ]
  },
  {
   "cell_type": "code",
   "execution_count": 9,
   "metadata": {},
   "outputs": [],
   "source": [
    "#function to find maximum F1 score and the parameters from the given numpy array\n",
    "def get_max_F1(arr):\n",
    "    max_F1 = 0\n",
    "    k = 0\n",
    "    d = 0\n",
    "    for a in arr:\n",
    "        if max_F1 < a[2]:\n",
    "            max_F1 = a[2]\n",
    "            k = a[0]\n",
    "            d = a[1]\n",
    "    return max_F1, k, d"
   ]
  },
  {
   "cell_type": "markdown",
   "metadata": {},
   "source": [
    "## Reading Data"
   ]
  },
  {
   "cell_type": "code",
   "execution_count": 10,
   "metadata": {
    "ExecuteTime": {
     "end_time": "2020-04-02T10:23:25.984665Z",
     "start_time": "2020-04-02T10:23:25.300036Z"
    }
   },
   "outputs": [],
   "source": [
    "import warnings\n",
    "warnings.filterwarnings('ignore')\n",
    "%matplotlib inline\n",
    "\n",
    "import pandas as pd\n",
    "import numpy as np\n",
    "import seaborn as sns\n",
    "import matplotlib.pyplot as plt\n",
    "import itertools\n",
    "from itertools import combinations\n",
    "import random\n",
    "from scipy import sparse\n",
    "from scipy.sparse import vstack\n",
    "\n",
    "import xgboost as xgb\n",
    "\n",
    "from sklearn.model_selection import train_test_split\n",
    "from sklearn.preprocessing import LabelEncoder\n",
    "from sklearn.feature_extraction.text import CountVectorizer\n",
    "from sklearn.preprocessing import StandardScaler\n",
    "\n",
    "\n",
    "from sklearn.metrics import f1_score\n",
    "from sklearn.metrics import roc_auc_score\n",
    "from sklearn.metrics import log_loss\n",
    "from sklearn.metrics import roc_curve\n",
    "from sklearn.metrics import confusion_matrix\n",
    "\n",
    "from sklearn.linear_model import LogisticRegression\n",
    "from sklearn.tree import DecisionTreeClassifier\n",
    "from sklearn.tree import plot_tree\n",
    "from sklearn import tree\n",
    "from sklearn.linear_model import SGDClassifier\n",
    "from sklearn.calibration import CalibratedClassifierCV\n",
    "from sklearn.ensemble import RandomForestClassifier\n",
    "from sklearn.naive_bayes import GaussianNB\n",
    "\n",
    "import pickle"
   ]
  },
  {
   "cell_type": "code",
   "execution_count": 11,
   "metadata": {
    "ExecuteTime": {
     "end_time": "2020-04-02T10:23:26.149450Z",
     "start_time": "2020-04-02T10:23:25.986913Z"
    }
   },
   "outputs": [
    {
     "name": "stdout",
     "output_type": "stream",
     "text": [
      "df.csv shape (41188, 21)\n"
     ]
    },
    {
     "data": {
      "text/plain": [
       "Index(['age', 'job', 'marital', 'education', 'default', 'housing', 'loan',\n",
       "       'contact', 'month', 'day_of_week', 'duration', 'campaign', 'pdays',\n",
       "       'previous', 'poutcome', 'emp.var.rate', 'cons.price.idx',\n",
       "       'cons.conf.idx', 'euribor3m', 'nr.employed', 'y'],\n",
       "      dtype='object')"
      ]
     },
     "execution_count": 11,
     "metadata": {},
     "output_type": "execute_result"
    }
   ],
   "source": [
    "#reading bank_additional.csv\n",
    "df = pd.read_csv('bank-additional-full.csv', sep=';')\n",
    "print('df.csv shape', df.shape)\n",
    "df.columns"
   ]
  },
  {
   "cell_type": "code",
   "execution_count": 12,
   "metadata": {
    "ExecuteTime": {
     "end_time": "2020-04-02T10:23:26.208645Z",
     "start_time": "2020-04-02T10:23:26.151596Z"
    }
   },
   "outputs": [
    {
     "data": {
      "text/html": [
       "<div>\n",
       "<style scoped>\n",
       "    .dataframe tbody tr th:only-of-type {\n",
       "        vertical-align: middle;\n",
       "    }\n",
       "\n",
       "    .dataframe tbody tr th {\n",
       "        vertical-align: top;\n",
       "    }\n",
       "\n",
       "    .dataframe thead th {\n",
       "        text-align: right;\n",
       "    }\n",
       "</style>\n",
       "<table border=\"1\" class=\"dataframe\">\n",
       "  <thead>\n",
       "    <tr style=\"text-align: right;\">\n",
       "      <th></th>\n",
       "      <th>age</th>\n",
       "      <th>duration</th>\n",
       "      <th>campaign</th>\n",
       "      <th>pdays</th>\n",
       "      <th>previous</th>\n",
       "      <th>emp.var.rate</th>\n",
       "      <th>cons.price.idx</th>\n",
       "      <th>cons.conf.idx</th>\n",
       "      <th>euribor3m</th>\n",
       "      <th>nr.employed</th>\n",
       "    </tr>\n",
       "  </thead>\n",
       "  <tbody>\n",
       "    <tr>\n",
       "      <th>count</th>\n",
       "      <td>41188.00000</td>\n",
       "      <td>41188.000000</td>\n",
       "      <td>41188.000000</td>\n",
       "      <td>41188.000000</td>\n",
       "      <td>41188.000000</td>\n",
       "      <td>41188.000000</td>\n",
       "      <td>41188.000000</td>\n",
       "      <td>41188.000000</td>\n",
       "      <td>41188.000000</td>\n",
       "      <td>41188.000000</td>\n",
       "    </tr>\n",
       "    <tr>\n",
       "      <th>mean</th>\n",
       "      <td>40.02406</td>\n",
       "      <td>258.285010</td>\n",
       "      <td>2.567593</td>\n",
       "      <td>962.475454</td>\n",
       "      <td>0.172963</td>\n",
       "      <td>0.081886</td>\n",
       "      <td>93.575664</td>\n",
       "      <td>-40.502600</td>\n",
       "      <td>3.621291</td>\n",
       "      <td>5167.035911</td>\n",
       "    </tr>\n",
       "    <tr>\n",
       "      <th>std</th>\n",
       "      <td>10.42125</td>\n",
       "      <td>259.279249</td>\n",
       "      <td>2.770014</td>\n",
       "      <td>186.910907</td>\n",
       "      <td>0.494901</td>\n",
       "      <td>1.570960</td>\n",
       "      <td>0.578840</td>\n",
       "      <td>4.628198</td>\n",
       "      <td>1.734447</td>\n",
       "      <td>72.251528</td>\n",
       "    </tr>\n",
       "    <tr>\n",
       "      <th>min</th>\n",
       "      <td>17.00000</td>\n",
       "      <td>0.000000</td>\n",
       "      <td>1.000000</td>\n",
       "      <td>0.000000</td>\n",
       "      <td>0.000000</td>\n",
       "      <td>-3.400000</td>\n",
       "      <td>92.201000</td>\n",
       "      <td>-50.800000</td>\n",
       "      <td>0.634000</td>\n",
       "      <td>4963.600000</td>\n",
       "    </tr>\n",
       "    <tr>\n",
       "      <th>25%</th>\n",
       "      <td>32.00000</td>\n",
       "      <td>102.000000</td>\n",
       "      <td>1.000000</td>\n",
       "      <td>999.000000</td>\n",
       "      <td>0.000000</td>\n",
       "      <td>-1.800000</td>\n",
       "      <td>93.075000</td>\n",
       "      <td>-42.700000</td>\n",
       "      <td>1.344000</td>\n",
       "      <td>5099.100000</td>\n",
       "    </tr>\n",
       "    <tr>\n",
       "      <th>50%</th>\n",
       "      <td>38.00000</td>\n",
       "      <td>180.000000</td>\n",
       "      <td>2.000000</td>\n",
       "      <td>999.000000</td>\n",
       "      <td>0.000000</td>\n",
       "      <td>1.100000</td>\n",
       "      <td>93.749000</td>\n",
       "      <td>-41.800000</td>\n",
       "      <td>4.857000</td>\n",
       "      <td>5191.000000</td>\n",
       "    </tr>\n",
       "    <tr>\n",
       "      <th>75%</th>\n",
       "      <td>47.00000</td>\n",
       "      <td>319.000000</td>\n",
       "      <td>3.000000</td>\n",
       "      <td>999.000000</td>\n",
       "      <td>0.000000</td>\n",
       "      <td>1.400000</td>\n",
       "      <td>93.994000</td>\n",
       "      <td>-36.400000</td>\n",
       "      <td>4.961000</td>\n",
       "      <td>5228.100000</td>\n",
       "    </tr>\n",
       "    <tr>\n",
       "      <th>max</th>\n",
       "      <td>98.00000</td>\n",
       "      <td>4918.000000</td>\n",
       "      <td>56.000000</td>\n",
       "      <td>999.000000</td>\n",
       "      <td>7.000000</td>\n",
       "      <td>1.400000</td>\n",
       "      <td>94.767000</td>\n",
       "      <td>-26.900000</td>\n",
       "      <td>5.045000</td>\n",
       "      <td>5228.100000</td>\n",
       "    </tr>\n",
       "  </tbody>\n",
       "</table>\n",
       "</div>"
      ],
      "text/plain": [
       "               age      duration      campaign         pdays      previous  \\\n",
       "count  41188.00000  41188.000000  41188.000000  41188.000000  41188.000000   \n",
       "mean      40.02406    258.285010      2.567593    962.475454      0.172963   \n",
       "std       10.42125    259.279249      2.770014    186.910907      0.494901   \n",
       "min       17.00000      0.000000      1.000000      0.000000      0.000000   \n",
       "25%       32.00000    102.000000      1.000000    999.000000      0.000000   \n",
       "50%       38.00000    180.000000      2.000000    999.000000      0.000000   \n",
       "75%       47.00000    319.000000      3.000000    999.000000      0.000000   \n",
       "max       98.00000   4918.000000     56.000000    999.000000      7.000000   \n",
       "\n",
       "       emp.var.rate  cons.price.idx  cons.conf.idx     euribor3m   nr.employed  \n",
       "count  41188.000000    41188.000000   41188.000000  41188.000000  41188.000000  \n",
       "mean       0.081886       93.575664     -40.502600      3.621291   5167.035911  \n",
       "std        1.570960        0.578840       4.628198      1.734447     72.251528  \n",
       "min       -3.400000       92.201000     -50.800000      0.634000   4963.600000  \n",
       "25%       -1.800000       93.075000     -42.700000      1.344000   5099.100000  \n",
       "50%        1.100000       93.749000     -41.800000      4.857000   5191.000000  \n",
       "75%        1.400000       93.994000     -36.400000      4.961000   5228.100000  \n",
       "max        1.400000       94.767000     -26.900000      5.045000   5228.100000  "
      ]
     },
     "execution_count": 12,
     "metadata": {},
     "output_type": "execute_result"
    }
   ],
   "source": [
    "df.describe()"
   ]
  },
  {
   "cell_type": "code",
   "execution_count": 13,
   "metadata": {
    "ExecuteTime": {
     "end_time": "2020-04-02T10:23:26.248984Z",
     "start_time": "2020-04-02T10:23:26.211371Z"
    }
   },
   "outputs": [
    {
     "name": "stdout",
     "output_type": "stream",
     "text": [
      "<class 'pandas.core.frame.DataFrame'>\n",
      "RangeIndex: 41188 entries, 0 to 41187\n",
      "Data columns (total 21 columns):\n",
      "age               41188 non-null int64\n",
      "job               41188 non-null object\n",
      "marital           41188 non-null object\n",
      "education         41188 non-null object\n",
      "default           41188 non-null object\n",
      "housing           41188 non-null object\n",
      "loan              41188 non-null object\n",
      "contact           41188 non-null object\n",
      "month             41188 non-null object\n",
      "day_of_week       41188 non-null object\n",
      "duration          41188 non-null int64\n",
      "campaign          41188 non-null int64\n",
      "pdays             41188 non-null int64\n",
      "previous          41188 non-null int64\n",
      "poutcome          41188 non-null object\n",
      "emp.var.rate      41188 non-null float64\n",
      "cons.price.idx    41188 non-null float64\n",
      "cons.conf.idx     41188 non-null float64\n",
      "euribor3m         41188 non-null float64\n",
      "nr.employed       41188 non-null float64\n",
      "y                 41188 non-null object\n",
      "dtypes: float64(5), int64(5), object(11)\n",
      "memory usage: 6.6+ MB\n"
     ]
    }
   ],
   "source": [
    "df.info()"
   ]
  },
  {
   "cell_type": "code",
   "execution_count": 14,
   "metadata": {
    "ExecuteTime": {
     "end_time": "2020-04-02T10:23:26.260114Z",
     "start_time": "2020-04-02T10:23:26.251182Z"
    }
   },
   "outputs": [
    {
     "data": {
      "text/plain": [
       "no     36548\n",
       "yes     4640\n",
       "Name: y, dtype: int64"
      ]
     },
     "execution_count": 14,
     "metadata": {},
     "output_type": "execute_result"
    }
   ],
   "source": [
    "#Lets look at the number of positive and negative points\n",
    "df['y'].value_counts()"
   ]
  },
  {
   "cell_type": "code",
   "execution_count": 15,
   "metadata": {
    "ExecuteTime": {
     "end_time": "2020-04-02T10:23:26.271792Z",
     "start_time": "2020-04-02T10:23:26.262095Z"
    }
   },
   "outputs": [
    {
     "name": "stdout",
     "output_type": "stream",
     "text": [
      "0.8873458288821987 0.11265417111780131\n"
     ]
    }
   ],
   "source": [
    "n = 36548 / (36548 + 4640)\n",
    "\n",
    "y = 4640 / (36548 + 4640)\n",
    "\n",
    "print(n, y)\n",
    "\n",
    "data = df"
   ]
  },
  {
   "cell_type": "code",
   "execution_count": 16,
   "metadata": {},
   "outputs": [
    {
     "name": "stdout",
     "output_type": "stream",
     "text": [
      "No of Duplicates in dataset:   12\n"
     ]
    }
   ],
   "source": [
    "# check for duplicate values\n",
    "print(\"No of Duplicates in dataset:  \",data.duplicated().sum())"
   ]
  },
  {
   "cell_type": "code",
   "execution_count": 17,
   "metadata": {},
   "outputs": [],
   "source": [
    "# drop the duplicates\n",
    "data.drop_duplicates(inplace=True)"
   ]
  },
  {
   "cell_type": "markdown",
   "metadata": {},
   "source": [
    "__The Dataset has 11.27% positive points and 88.73% negative points__"
   ]
  },
  {
   "cell_type": "markdown",
   "metadata": {},
   "source": [
    "__There are Missing values in the dataset in the Categorical variables wherein they are encoded as 'unknown'__"
   ]
  },
  {
   "cell_type": "code",
   "execution_count": 18,
   "metadata": {},
   "outputs": [],
   "source": [
    "#some col in the dataset have values as unknown we will change it to unknown_col_name\n",
    "\n",
    "#Replace the unknown job level\n",
    "data['job'].replace('unknown', 'unknown_job', inplace=True)\n",
    "\n",
    "#Replace the unknown marital status\n",
    "data['marital'].replace('unknown', 'unknown_marital', inplace=True)\n",
    "\n",
    "#Replace the unknown education level\n",
    "data['education'].replace('unknown', 'unknown_education', inplace=True)\n",
    "\n",
    "#Replace the unknown default level\n",
    "data['default'].replace('unknown', 'unknown_default', inplace=True)\n",
    "\n",
    "#Replace the unknown housing level\n",
    "data['housing'].replace('unknown', 'unknown_housing', inplace=True)\n",
    "\n",
    "#Replace the unknown loan level\n",
    "data['loan'].replace('unknown', 'unknown_loan', inplace=True)\n",
    "\n",
    "#Replace the unknown and contact level\n",
    "data['contact'].replace('unknown', 'unknown_contact', inplace=True)\n",
    "\n",
    "#Replace the unknown and month level\n",
    "data['month'].replace('unknown', 'unknown_month', inplace=True)\n",
    "\n",
    "#Replace the unknown and day_of_week level\n",
    "data['day_of_week'].replace('unknown', 'unknown_day_of_week', inplace=True)\n",
    "\n",
    "#Replace the unknown and poutcome level\n",
    "data['poutcome'].replace('unknown', 'unknown_poutcome', inplace=True)"
   ]
  },
  {
   "cell_type": "markdown",
   "metadata": {},
   "source": [
    "### Removing hyphen and dot from the categorical feature names"
   ]
  },
  {
   "cell_type": "code",
   "execution_count": 19,
   "metadata": {
    "scrolled": true
   },
   "outputs": [
    {
     "name": "stdout",
     "output_type": "stream",
     "text": [
      "['housemaid' 'services' 'admin.' 'blue-collar' 'technician' 'retired'\n",
      " 'management' 'unemployed' 'self-employed' 'unknown_job' 'entrepreneur'\n",
      " 'student']\n",
      "admin.           10419\n",
      "blue-collar       9253\n",
      "technician        6739\n",
      "services          3967\n",
      "management        2924\n",
      "retired           1718\n",
      "entrepreneur      1456\n",
      "self-employed     1421\n",
      "housemaid         1060\n",
      "unemployed        1014\n",
      "student            875\n",
      "unknown_job        330\n",
      "Name: job, dtype: int64\n"
     ]
    }
   ],
   "source": [
    "z = 'job'\n",
    "print(data[z].unique())\n",
    "print(data[z].value_counts())"
   ]
  },
  {
   "cell_type": "code",
   "execution_count": 20,
   "metadata": {},
   "outputs": [
    {
     "name": "stdout",
     "output_type": "stream",
     "text": [
      "['housemaid' 'services' 'admin.' 'blue_collar' 'technician' 'retired'\n",
      " 'management' 'unemployed' 'self_employed' 'unknown_job' 'entrepreneur'\n",
      " 'student']\n",
      "admin.           10419\n",
      "blue_collar       9253\n",
      "technician        6739\n",
      "services          3967\n",
      "management        2924\n",
      "retired           1718\n",
      "entrepreneur      1456\n",
      "self_employed     1421\n",
      "housemaid         1060\n",
      "unemployed        1014\n",
      "student            875\n",
      "unknown_job        330\n",
      "Name: job, dtype: int64\n"
     ]
    }
   ],
   "source": [
    "#removing 'hiphen' and 'dot' from the category names\n",
    "data['job'].replace('blue-collar', 'blue_collar', inplace=True)\n",
    "data['job'].replace('self-employed', 'self_employed', inplace=True)\n",
    "#checking results\n",
    "print(data[z].unique())\n",
    "print(data[z].value_counts())"
   ]
  },
  {
   "cell_type": "code",
   "execution_count": 21,
   "metadata": {},
   "outputs": [
    {
     "name": "stdout",
     "output_type": "stream",
     "text": [
      "['basic.4y' 'high.school' 'basic.6y' 'basic.9y' 'professional.course'\n",
      " 'unknown_education' 'university.degree' 'illiterate']\n",
      "university.degree      12164\n",
      "high.school             9512\n",
      "basic.9y                6045\n",
      "professional.course     5240\n",
      "basic.4y                4176\n",
      "basic.6y                2291\n",
      "unknown_education       1730\n",
      "illiterate                18\n",
      "Name: education, dtype: int64\n"
     ]
    }
   ],
   "source": [
    "z = 'education'\n",
    "print(data[z].unique())\n",
    "print(data[z].value_counts())"
   ]
  },
  {
   "cell_type": "code",
   "execution_count": 22,
   "metadata": {},
   "outputs": [
    {
     "name": "stdout",
     "output_type": "stream",
     "text": [
      "['basic_4y' 'high_school' 'basic_6y' 'basic_9y' 'professional_course'\n",
      " 'unknown_education' 'university_degree' 'illiterate']\n",
      "university_degree      12164\n",
      "high_school             9512\n",
      "basic_9y                6045\n",
      "professional_course     5240\n",
      "basic_4y                4176\n",
      "basic_6y                2291\n",
      "unknown_education       1730\n",
      "illiterate                18\n",
      "Name: education, dtype: int64\n"
     ]
    }
   ],
   "source": [
    "#removing 'hiphen' and 'dot' from the category names\n",
    "data['education'].replace('university.degree', 'university_degree', inplace=True)\n",
    "data['education'].replace('high.school', 'high_school', inplace=True)\n",
    "data['education'].replace('basic.9y', 'basic_9y', inplace=True)\n",
    "data['education'].replace('professional.course', 'professional_course', inplace=True)\n",
    "data['education'].replace('basic.4y', 'basic_4y', inplace=True)\n",
    "data['education'].replace('basic.6y', 'basic_6y', inplace=True)\n",
    "#checking results\n",
    "print(data[z].unique())\n",
    "print(data[z].value_counts())"
   ]
  },
  {
   "cell_type": "code",
   "execution_count": 23,
   "metadata": {
    "scrolled": false
   },
   "outputs": [
    {
     "name": "stdout",
     "output_type": "stream",
     "text": [
      "['no' 'unknown_default' 'yes']\n",
      "no                 32577\n",
      "unknown_default     8596\n",
      "yes                    3\n",
      "Name: default, dtype: int64\n"
     ]
    }
   ],
   "source": [
    "z = 'default'\n",
    "print(data[z].unique())\n",
    "print(data[z].value_counts())"
   ]
  },
  {
   "cell_type": "code",
   "execution_count": 24,
   "metadata": {},
   "outputs": [
    {
     "name": "stdout",
     "output_type": "stream",
     "text": [
      "['no_default' 'unknown_default' 'yes_default']\n",
      "no_default         32577\n",
      "unknown_default     8596\n",
      "yes_default            3\n",
      "Name: default, dtype: int64\n"
     ]
    }
   ],
   "source": [
    "#renaming 'yes' and 'no' in the category names\n",
    "data['default'].replace('yes', 'yes_default', inplace=True)\n",
    "data['default'].replace('no', 'no_default', inplace=True)\n",
    "#checking results\n",
    "print(data[z].unique())\n",
    "print(data[z].value_counts())"
   ]
  },
  {
   "cell_type": "code",
   "execution_count": 25,
   "metadata": {
    "scrolled": true
   },
   "outputs": [
    {
     "name": "stdout",
     "output_type": "stream",
     "text": [
      "['no' 'yes' 'unknown_housing']\n",
      "yes                21571\n",
      "no                 18615\n",
      "unknown_housing      990\n",
      "Name: housing, dtype: int64\n"
     ]
    }
   ],
   "source": [
    "z = 'housing'\n",
    "print(data[z].unique())\n",
    "print(data[z].value_counts())"
   ]
  },
  {
   "cell_type": "code",
   "execution_count": 26,
   "metadata": {
    "scrolled": true
   },
   "outputs": [
    {
     "name": "stdout",
     "output_type": "stream",
     "text": [
      "['no_housing' 'yes_housing' 'unknown_housing']\n",
      "yes_housing        21571\n",
      "no_housing         18615\n",
      "unknown_housing      990\n",
      "Name: housing, dtype: int64\n"
     ]
    }
   ],
   "source": [
    "#renaming 'yes' and 'no' in the category names\n",
    "data['housing'].replace('yes', 'yes_housing', inplace=True)\n",
    "data['housing'].replace('no', 'no_housing', inplace=True)\n",
    "#checking results\n",
    "print(data[z].unique())\n",
    "print(data[z].value_counts())"
   ]
  },
  {
   "cell_type": "code",
   "execution_count": 27,
   "metadata": {},
   "outputs": [
    {
     "name": "stdout",
     "output_type": "stream",
     "text": [
      "['no' 'yes' 'unknown_loan']\n",
      "no              33938\n",
      "yes              6248\n",
      "unknown_loan      990\n",
      "Name: loan, dtype: int64\n"
     ]
    }
   ],
   "source": [
    "z = 'loan'\n",
    "print(data[z].unique())\n",
    "print(data[z].value_counts())"
   ]
  },
  {
   "cell_type": "code",
   "execution_count": 28,
   "metadata": {
    "scrolled": true
   },
   "outputs": [
    {
     "name": "stdout",
     "output_type": "stream",
     "text": [
      "['no_loan' 'yes_loan' 'unknown_loan']\n",
      "no_loan         33938\n",
      "yes_loan         6248\n",
      "unknown_loan      990\n",
      "Name: loan, dtype: int64\n"
     ]
    }
   ],
   "source": [
    "#renaming 'yes' and 'no' in the category names\n",
    "data['loan'].replace('yes', 'yes_loan', inplace=True)\n",
    "data['loan'].replace('no', 'no_loan', inplace=True)\n",
    "#checking results\n",
    "print(data[z].unique())\n",
    "print(data[z].value_counts())"
   ]
  },
  {
   "cell_type": "code",
   "execution_count": 29,
   "metadata": {},
   "outputs": [
    {
     "name": "stdout",
     "output_type": "stream",
     "text": [
      "['nonexistent' 'failure' 'success']\n",
      "nonexistent    35551\n",
      "failure         4252\n",
      "success         1373\n",
      "Name: poutcome, dtype: int64\n"
     ]
    }
   ],
   "source": [
    "z = 'poutcome'\n",
    "print(data[z].unique())\n",
    "print(data[z].value_counts())"
   ]
  },
  {
   "cell_type": "code",
   "execution_count": 30,
   "metadata": {
    "scrolled": true
   },
   "outputs": [
    {
     "name": "stdout",
     "output_type": "stream",
     "text": [
      "['nonexistent_poutcome' 'failure_poutcome' 'success_poutcome']\n",
      "nonexistent_poutcome    35551\n",
      "failure_poutcome         4252\n",
      "success_poutcome         1373\n",
      "Name: poutcome, dtype: int64\n"
     ]
    }
   ],
   "source": [
    "#renaming 'nonexistent', 'failure', 'success' in the category names\n",
    "data['poutcome'].replace('nonexistent', 'nonexistent_poutcome', inplace=True)\n",
    "data['poutcome'].replace('failure', 'failure_poutcome', inplace=True)\n",
    "data['poutcome'].replace('success', 'success_poutcome', inplace=True)\n",
    "#checking results\n",
    "print(data[z].unique())\n",
    "print(data[z].value_counts())"
   ]
  },
  {
   "cell_type": "markdown",
   "metadata": {},
   "source": [
    "### Adding Engineered Categorical Features"
   ]
  },
  {
   "cell_type": "code",
   "execution_count": 31,
   "metadata": {},
   "outputs": [],
   "source": [
    "#add the categorical features for the cols pdays, cons_price_idx, cons_conf_idx, nr_employed\n",
    "convert_pdays_cat(data)\n",
    "convert_cons_price_idx_cat(data)\n",
    "convert_cons_conf_idx_cat(data)\n",
    "convert_nr_employed_cat(data)"
   ]
  },
  {
   "cell_type": "code",
   "execution_count": 32,
   "metadata": {},
   "outputs": [
    {
     "data": {
      "text/plain": [
       "(41176, 25)"
      ]
     },
     "execution_count": 32,
     "metadata": {},
     "output_type": "execute_result"
    }
   ],
   "source": [
    "data.shape"
   ]
  },
  {
   "cell_type": "code",
   "execution_count": 33,
   "metadata": {},
   "outputs": [
    {
     "data": {
      "text/plain": [
       "(41176, 25)"
      ]
     },
     "execution_count": 33,
     "metadata": {},
     "output_type": "execute_result"
    }
   ],
   "source": [
    "df.shape"
   ]
  },
  {
   "cell_type": "markdown",
   "metadata": {},
   "source": [
    "### Adding Engineered Sin Features"
   ]
  },
  {
   "cell_type": "code",
   "execution_count": 34,
   "metadata": {
    "ExecuteTime": {
     "end_time": "2020-04-02T11:18:59.124700Z",
     "start_time": "2020-04-02T11:18:59.122108Z"
    }
   },
   "outputs": [],
   "source": [
    "z_sin = 'age_sin'\n",
    "z = 'age'"
   ]
  },
  {
   "cell_type": "code",
   "execution_count": 35,
   "metadata": {
    "ExecuteTime": {
     "end_time": "2020-04-02T11:19:12.454184Z",
     "start_time": "2020-04-02T11:19:12.445998Z"
    }
   },
   "outputs": [],
   "source": [
    "#get sine of feature and add it to the dataframe\n",
    "tmp_sin = return_sin(data[z].values)\n",
    "data[z_sin] = tmp_sin"
   ]
  },
  {
   "cell_type": "code",
   "execution_count": 36,
   "metadata": {
    "ExecuteTime": {
     "end_time": "2020-04-02T11:18:59.124700Z",
     "start_time": "2020-04-02T11:18:59.122108Z"
    }
   },
   "outputs": [],
   "source": [
    "z_sin = 'duration_sin'\n",
    "z = 'duration'"
   ]
  },
  {
   "cell_type": "code",
   "execution_count": 37,
   "metadata": {
    "ExecuteTime": {
     "end_time": "2020-04-02T11:19:12.454184Z",
     "start_time": "2020-04-02T11:19:12.445998Z"
    }
   },
   "outputs": [],
   "source": [
    "#get sine of feature and add it to the dataframe\n",
    "tmp_sin = return_sin(data[z].values)\n",
    "data[z_sin] = tmp_sin"
   ]
  },
  {
   "cell_type": "code",
   "execution_count": 38,
   "metadata": {
    "ExecuteTime": {
     "end_time": "2020-04-02T11:18:59.124700Z",
     "start_time": "2020-04-02T11:18:59.122108Z"
    }
   },
   "outputs": [],
   "source": [
    "z_sin = 'campaign_sin'\n",
    "z = 'campaign'"
   ]
  },
  {
   "cell_type": "code",
   "execution_count": 39,
   "metadata": {
    "ExecuteTime": {
     "end_time": "2020-04-02T11:19:12.454184Z",
     "start_time": "2020-04-02T11:19:12.445998Z"
    }
   },
   "outputs": [],
   "source": [
    "#get sine of feature and add it to the dataframe\n",
    "tmp_sin = return_sin(data[z].values)\n",
    "data[z_sin] = tmp_sin"
   ]
  },
  {
   "cell_type": "code",
   "execution_count": 40,
   "metadata": {
    "ExecuteTime": {
     "end_time": "2020-04-02T11:18:59.124700Z",
     "start_time": "2020-04-02T11:18:59.122108Z"
    }
   },
   "outputs": [],
   "source": [
    "z_sin = 'pdays_sin'\n",
    "z = 'pdays'"
   ]
  },
  {
   "cell_type": "code",
   "execution_count": 41,
   "metadata": {
    "ExecuteTime": {
     "end_time": "2020-04-02T11:19:12.454184Z",
     "start_time": "2020-04-02T11:19:12.445998Z"
    }
   },
   "outputs": [],
   "source": [
    "#get sine of feature and add it to the dataframe\n",
    "tmp_sin = return_sin(data[z].values)\n",
    "data[z_sin] = tmp_sin"
   ]
  },
  {
   "cell_type": "code",
   "execution_count": 42,
   "metadata": {
    "ExecuteTime": {
     "end_time": "2020-04-02T11:18:59.124700Z",
     "start_time": "2020-04-02T11:18:59.122108Z"
    }
   },
   "outputs": [],
   "source": [
    "z_sin = 'previous_sin'\n",
    "z = 'previous'"
   ]
  },
  {
   "cell_type": "code",
   "execution_count": 43,
   "metadata": {
    "ExecuteTime": {
     "end_time": "2020-04-02T11:19:12.454184Z",
     "start_time": "2020-04-02T11:19:12.445998Z"
    }
   },
   "outputs": [],
   "source": [
    "#get sine of feature and add it to the dataframe\n",
    "tmp_sin = return_sin(data[z].values)\n",
    "data[z_sin] = tmp_sin"
   ]
  },
  {
   "cell_type": "code",
   "execution_count": 44,
   "metadata": {
    "ExecuteTime": {
     "end_time": "2020-04-02T11:18:59.124700Z",
     "start_time": "2020-04-02T11:18:59.122108Z"
    }
   },
   "outputs": [],
   "source": [
    "z_sin = 'emp.var.rate_sin'\n",
    "z = 'emp.var.rate'"
   ]
  },
  {
   "cell_type": "code",
   "execution_count": 45,
   "metadata": {
    "ExecuteTime": {
     "end_time": "2020-04-02T11:19:12.454184Z",
     "start_time": "2020-04-02T11:19:12.445998Z"
    }
   },
   "outputs": [],
   "source": [
    "#get sine of feature and add it to the dataframe\n",
    "tmp_sin = return_sin(data[z].values)\n",
    "data[z_sin] = tmp_sin"
   ]
  },
  {
   "cell_type": "code",
   "execution_count": 46,
   "metadata": {
    "ExecuteTime": {
     "end_time": "2020-04-02T11:18:59.124700Z",
     "start_time": "2020-04-02T11:18:59.122108Z"
    }
   },
   "outputs": [],
   "source": [
    "z_sin = 'cons.price.idx_sin'\n",
    "z = 'cons.price.idx'"
   ]
  },
  {
   "cell_type": "code",
   "execution_count": 47,
   "metadata": {
    "ExecuteTime": {
     "end_time": "2020-04-02T11:19:12.454184Z",
     "start_time": "2020-04-02T11:19:12.445998Z"
    }
   },
   "outputs": [],
   "source": [
    "#get sine of feature and add it to the dataframe\n",
    "tmp_sin = return_sin(data[z].values)\n",
    "data[z_sin] = tmp_sin"
   ]
  },
  {
   "cell_type": "code",
   "execution_count": 48,
   "metadata": {
    "ExecuteTime": {
     "end_time": "2020-04-02T11:18:59.124700Z",
     "start_time": "2020-04-02T11:18:59.122108Z"
    }
   },
   "outputs": [],
   "source": [
    "z_sin = 'cons.conf.idx_sin'\n",
    "z = 'cons.conf.idx'"
   ]
  },
  {
   "cell_type": "code",
   "execution_count": 49,
   "metadata": {
    "ExecuteTime": {
     "end_time": "2020-04-02T11:19:12.454184Z",
     "start_time": "2020-04-02T11:19:12.445998Z"
    }
   },
   "outputs": [],
   "source": [
    "#get sine of feature and add it to the dataframe\n",
    "tmp_sin = return_sin(data[z].values)\n",
    "data[z_sin] = tmp_sin"
   ]
  },
  {
   "cell_type": "code",
   "execution_count": 50,
   "metadata": {
    "ExecuteTime": {
     "end_time": "2020-04-02T11:18:59.124700Z",
     "start_time": "2020-04-02T11:18:59.122108Z"
    }
   },
   "outputs": [],
   "source": [
    "z_sin = 'euribor3m_sin'\n",
    "z = 'euribor3m'"
   ]
  },
  {
   "cell_type": "code",
   "execution_count": 51,
   "metadata": {
    "ExecuteTime": {
     "end_time": "2020-04-02T11:19:12.454184Z",
     "start_time": "2020-04-02T11:19:12.445998Z"
    }
   },
   "outputs": [],
   "source": [
    "#get sine of feature and add it to the dataframe\n",
    "tmp_sin = return_sin(data[z].values)\n",
    "data[z_sin] = tmp_sin"
   ]
  },
  {
   "cell_type": "code",
   "execution_count": 52,
   "metadata": {
    "ExecuteTime": {
     "end_time": "2020-04-02T11:18:59.124700Z",
     "start_time": "2020-04-02T11:18:59.122108Z"
    }
   },
   "outputs": [],
   "source": [
    "z_sin = 'nr.employed_sin'\n",
    "z = 'nr.employed'"
   ]
  },
  {
   "cell_type": "code",
   "execution_count": 53,
   "metadata": {
    "ExecuteTime": {
     "end_time": "2020-04-02T11:19:12.454184Z",
     "start_time": "2020-04-02T11:19:12.445998Z"
    }
   },
   "outputs": [],
   "source": [
    "#get sine of feature and add it to the dataframe\n",
    "tmp_sin = return_sin(data[z].values)\n",
    "data[z_sin] = tmp_sin"
   ]
  },
  {
   "cell_type": "code",
   "execution_count": 54,
   "metadata": {},
   "outputs": [
    {
     "data": {
      "text/plain": [
       "(41176, 35)"
      ]
     },
     "execution_count": 54,
     "metadata": {},
     "output_type": "execute_result"
    }
   ],
   "source": [
    "data.shape"
   ]
  },
  {
   "cell_type": "code",
   "execution_count": 55,
   "metadata": {
    "scrolled": true
   },
   "outputs": [
    {
     "data": {
      "text/plain": [
       "(41176, 35)"
      ]
     },
     "execution_count": 55,
     "metadata": {},
     "output_type": "execute_result"
    }
   ],
   "source": [
    "df.shape"
   ]
  },
  {
   "cell_type": "markdown",
   "metadata": {},
   "source": [
    "### Lets do a Train-Test Split"
   ]
  },
  {
   "cell_type": "code",
   "execution_count": 56,
   "metadata": {},
   "outputs": [
    {
     "data": {
      "text/html": [
       "<div>\n",
       "<style scoped>\n",
       "    .dataframe tbody tr th:only-of-type {\n",
       "        vertical-align: middle;\n",
       "    }\n",
       "\n",
       "    .dataframe tbody tr th {\n",
       "        vertical-align: top;\n",
       "    }\n",
       "\n",
       "    .dataframe thead th {\n",
       "        text-align: right;\n",
       "    }\n",
       "</style>\n",
       "<table border=\"1\" class=\"dataframe\">\n",
       "  <thead>\n",
       "    <tr style=\"text-align: right;\">\n",
       "      <th></th>\n",
       "      <th>age</th>\n",
       "      <th>job</th>\n",
       "      <th>marital</th>\n",
       "      <th>education</th>\n",
       "      <th>default</th>\n",
       "      <th>housing</th>\n",
       "      <th>loan</th>\n",
       "      <th>contact</th>\n",
       "      <th>month</th>\n",
       "      <th>day_of_week</th>\n",
       "      <th>...</th>\n",
       "      <th>age_sin</th>\n",
       "      <th>duration_sin</th>\n",
       "      <th>campaign_sin</th>\n",
       "      <th>pdays_sin</th>\n",
       "      <th>previous_sin</th>\n",
       "      <th>emp.var.rate_sin</th>\n",
       "      <th>cons.price.idx_sin</th>\n",
       "      <th>cons.conf.idx_sin</th>\n",
       "      <th>euribor3m_sin</th>\n",
       "      <th>nr.employed_sin</th>\n",
       "    </tr>\n",
       "  </thead>\n",
       "  <tbody>\n",
       "    <tr>\n",
       "      <th>0</th>\n",
       "      <td>56</td>\n",
       "      <td>housemaid</td>\n",
       "      <td>married</td>\n",
       "      <td>basic_4y</td>\n",
       "      <td>no_default</td>\n",
       "      <td>no_housing</td>\n",
       "      <td>no_loan</td>\n",
       "      <td>telephone</td>\n",
       "      <td>may</td>\n",
       "      <td>mon</td>\n",
       "      <td>...</td>\n",
       "      <td>-0.521551</td>\n",
       "      <td>-0.245281</td>\n",
       "      <td>0.841471</td>\n",
       "      <td>-0.026461</td>\n",
       "      <td>0.0</td>\n",
       "      <td>0.891207</td>\n",
       "      <td>-0.251064</td>\n",
       "      <td>0.96332</td>\n",
       "      <td>-0.989562</td>\n",
       "      <td>0.886134</td>\n",
       "    </tr>\n",
       "    <tr>\n",
       "      <th>1</th>\n",
       "      <td>57</td>\n",
       "      <td>services</td>\n",
       "      <td>married</td>\n",
       "      <td>high_school</td>\n",
       "      <td>unknown_default</td>\n",
       "      <td>no_housing</td>\n",
       "      <td>no_loan</td>\n",
       "      <td>telephone</td>\n",
       "      <td>may</td>\n",
       "      <td>mon</td>\n",
       "      <td>...</td>\n",
       "      <td>0.436165</td>\n",
       "      <td>-0.974649</td>\n",
       "      <td>0.841471</td>\n",
       "      <td>-0.026461</td>\n",
       "      <td>0.0</td>\n",
       "      <td>0.891207</td>\n",
       "      <td>-0.251064</td>\n",
       "      <td>0.96332</td>\n",
       "      <td>-0.989562</td>\n",
       "      <td>0.886134</td>\n",
       "    </tr>\n",
       "    <tr>\n",
       "      <th>2</th>\n",
       "      <td>37</td>\n",
       "      <td>services</td>\n",
       "      <td>married</td>\n",
       "      <td>high_school</td>\n",
       "      <td>no_default</td>\n",
       "      <td>yes_housing</td>\n",
       "      <td>no_loan</td>\n",
       "      <td>telephone</td>\n",
       "      <td>may</td>\n",
       "      <td>mon</td>\n",
       "      <td>...</td>\n",
       "      <td>-0.643538</td>\n",
       "      <td>-0.193444</td>\n",
       "      <td>0.841471</td>\n",
       "      <td>-0.026461</td>\n",
       "      <td>0.0</td>\n",
       "      <td>0.891207</td>\n",
       "      <td>-0.251064</td>\n",
       "      <td>0.96332</td>\n",
       "      <td>-0.989562</td>\n",
       "      <td>0.886134</td>\n",
       "    </tr>\n",
       "    <tr>\n",
       "      <th>3</th>\n",
       "      <td>40</td>\n",
       "      <td>admin.</td>\n",
       "      <td>married</td>\n",
       "      <td>basic_6y</td>\n",
       "      <td>no_default</td>\n",
       "      <td>no_housing</td>\n",
       "      <td>no_loan</td>\n",
       "      <td>telephone</td>\n",
       "      <td>may</td>\n",
       "      <td>mon</td>\n",
       "      <td>...</td>\n",
       "      <td>0.745113</td>\n",
       "      <td>0.202150</td>\n",
       "      <td>0.841471</td>\n",
       "      <td>-0.026461</td>\n",
       "      <td>0.0</td>\n",
       "      <td>0.891207</td>\n",
       "      <td>-0.251064</td>\n",
       "      <td>0.96332</td>\n",
       "      <td>-0.989562</td>\n",
       "      <td>0.886134</td>\n",
       "    </tr>\n",
       "    <tr>\n",
       "      <th>4</th>\n",
       "      <td>56</td>\n",
       "      <td>services</td>\n",
       "      <td>married</td>\n",
       "      <td>high_school</td>\n",
       "      <td>no_default</td>\n",
       "      <td>no_housing</td>\n",
       "      <td>yes_loan</td>\n",
       "      <td>telephone</td>\n",
       "      <td>may</td>\n",
       "      <td>mon</td>\n",
       "      <td>...</td>\n",
       "      <td>-0.521551</td>\n",
       "      <td>-0.768235</td>\n",
       "      <td>0.841471</td>\n",
       "      <td>-0.026461</td>\n",
       "      <td>0.0</td>\n",
       "      <td>0.891207</td>\n",
       "      <td>-0.251064</td>\n",
       "      <td>0.96332</td>\n",
       "      <td>-0.989562</td>\n",
       "      <td>0.886134</td>\n",
       "    </tr>\n",
       "  </tbody>\n",
       "</table>\n",
       "<p>5 rows × 35 columns</p>\n",
       "</div>"
      ],
      "text/plain": [
       "   age        job  marital    education          default      housing  \\\n",
       "0   56  housemaid  married     basic_4y       no_default   no_housing   \n",
       "1   57   services  married  high_school  unknown_default   no_housing   \n",
       "2   37   services  married  high_school       no_default  yes_housing   \n",
       "3   40     admin.  married     basic_6y       no_default   no_housing   \n",
       "4   56   services  married  high_school       no_default   no_housing   \n",
       "\n",
       "       loan    contact month day_of_week  ...   age_sin  duration_sin  \\\n",
       "0   no_loan  telephone   may         mon  ... -0.521551     -0.245281   \n",
       "1   no_loan  telephone   may         mon  ...  0.436165     -0.974649   \n",
       "2   no_loan  telephone   may         mon  ... -0.643538     -0.193444   \n",
       "3   no_loan  telephone   may         mon  ...  0.745113      0.202150   \n",
       "4  yes_loan  telephone   may         mon  ... -0.521551     -0.768235   \n",
       "\n",
       "   campaign_sin  pdays_sin previous_sin  emp.var.rate_sin  cons.price.idx_sin  \\\n",
       "0      0.841471  -0.026461          0.0          0.891207           -0.251064   \n",
       "1      0.841471  -0.026461          0.0          0.891207           -0.251064   \n",
       "2      0.841471  -0.026461          0.0          0.891207           -0.251064   \n",
       "3      0.841471  -0.026461          0.0          0.891207           -0.251064   \n",
       "4      0.841471  -0.026461          0.0          0.891207           -0.251064   \n",
       "\n",
       "   cons.conf.idx_sin  euribor3m_sin  nr.employed_sin  \n",
       "0            0.96332      -0.989562         0.886134  \n",
       "1            0.96332      -0.989562         0.886134  \n",
       "2            0.96332      -0.989562         0.886134  \n",
       "3            0.96332      -0.989562         0.886134  \n",
       "4            0.96332      -0.989562         0.886134  \n",
       "\n",
       "[5 rows x 35 columns]"
      ]
     },
     "execution_count": 56,
     "metadata": {},
     "output_type": "execute_result"
    }
   ],
   "source": [
    "df.head()"
   ]
  },
  {
   "cell_type": "code",
   "execution_count": 57,
   "metadata": {},
   "outputs": [
    {
     "data": {
      "text/plain": [
       "Index(['age', 'job', 'marital', 'education', 'default', 'housing', 'loan',\n",
       "       'contact', 'month', 'day_of_week', 'duration', 'campaign', 'pdays',\n",
       "       'previous', 'poutcome', 'emp.var.rate', 'cons.price.idx',\n",
       "       'cons.conf.idx', 'euribor3m', 'nr.employed', 'y', 'pdays_cat',\n",
       "       'cons.price.idx_cat', 'cons.conf.idx_cat', 'nr.employed_cat', 'age_sin',\n",
       "       'duration_sin', 'campaign_sin', 'pdays_sin', 'previous_sin',\n",
       "       'emp.var.rate_sin', 'cons.price.idx_sin', 'cons.conf.idx_sin',\n",
       "       'euribor3m_sin', 'nr.employed_sin'],\n",
       "      dtype='object')"
      ]
     },
     "execution_count": 57,
     "metadata": {},
     "output_type": "execute_result"
    }
   ],
   "source": [
    "df.columns"
   ]
  },
  {
   "cell_type": "code",
   "execution_count": 58,
   "metadata": {},
   "outputs": [],
   "source": [
    "y_label = df['y'] #get output variable\n",
    "le = LabelEncoder()\n",
    "output = le.fit_transform(y_label) #transform the output variable to 0/1 form\n",
    "df['output'] = output"
   ]
  },
  {
   "cell_type": "code",
   "execution_count": 59,
   "metadata": {},
   "outputs": [
    {
     "name": "stdout",
     "output_type": "stream",
     "text": [
      "(41176, 34)\n",
      "Index(['age', 'job', 'marital', 'education', 'default', 'housing', 'loan',\n",
      "       'contact', 'month', 'day_of_week', 'duration', 'campaign', 'pdays',\n",
      "       'previous', 'poutcome', 'emp.var.rate', 'cons.price.idx',\n",
      "       'cons.conf.idx', 'euribor3m', 'nr.employed', 'pdays_cat',\n",
      "       'cons.price.idx_cat', 'cons.conf.idx_cat', 'nr.employed_cat', 'age_sin',\n",
      "       'duration_sin', 'campaign_sin', 'pdays_sin', 'previous_sin',\n",
      "       'emp.var.rate_sin', 'cons.price.idx_sin', 'cons.conf.idx_sin',\n",
      "       'euribor3m_sin', 'nr.employed_sin'],\n",
      "      dtype='object')\n"
     ]
    }
   ],
   "source": [
    "#here we will split our data randomly as there is no temporal nature of the data\n",
    "Y_True = df['output'].values.reshape(-1,1)\n",
    "\n",
    "#remove the 'y' and 'output' columns\n",
    "df.drop(['y'], axis=1, inplace=True)\n",
    "df.drop(['output'], axis=1, inplace=True)\n",
    "print(df.shape)\n",
    "print(df.columns)"
   ]
  },
  {
   "cell_type": "code",
   "execution_count": 60,
   "metadata": {},
   "outputs": [],
   "source": [
    "#splitting the data to train and test\n",
    "df_Train_temp, df_Test, Y_Train_temp, Y_Test = train_test_split(df, Y_True, stratify=Y_True, test_size=0.3, random_state = 4) \n",
    "df_Train, df_CV, Y_Train, Y_CV = train_test_split(df_Train_temp, Y_Train_temp, stratify=Y_Train_temp, test_size=0.3, random_state = 4) "
   ]
  },
  {
   "cell_type": "code",
   "execution_count": 61,
   "metadata": {},
   "outputs": [
    {
     "name": "stdout",
     "output_type": "stream",
     "text": [
      "df_train shape: (20176, 34) Y_train shape: (20176, 1)\n",
      "df_CV shape: (8647, 34) Y_CV shape: (8647, 1)\n",
      "df_test shape: (12353, 34) Y_test shape: (12353, 1)\n"
     ]
    }
   ],
   "source": [
    "#lets see the shape of the train cv and test data\n",
    "print('df_train shape: {} Y_train shape: {}'.format(df_Train.shape, Y_Train.shape))\n",
    "print('df_CV shape: {} Y_CV shape: {}'.format(df_CV.shape, Y_CV.shape))\n",
    "print('df_test shape: {} Y_test shape: {}'.format(df_Test.shape, Y_Test.shape))"
   ]
  },
  {
   "cell_type": "markdown",
   "metadata": {},
   "source": [
    "### Standardizing the Features in the Train, CV and Test Datasets"
   ]
  },
  {
   "cell_type": "markdown",
   "metadata": {},
   "source": [
    "__We have 34 Features out of which 20 are numerical features while 14 are categorical features, so for the numerical features we will use standard_scalar while for the categorical features we will use countvectorizer__\n",
    "\n",
    "__Here we will use a function standerdize_data to standardize the data__"
   ]
  },
  {
   "cell_type": "code",
   "execution_count": 62,
   "metadata": {},
   "outputs": [],
   "source": [
    "#This function will standardize the data given a dataframe\n",
    "#if the data is train data we will have to call to the function with tag = 1\n",
    "#if the data is test/cv we will have to call the function with tag = 0\n",
    "#The function will return the the np array after standardization process\n",
    "#The standard_dict_cat is a dictionary of categorical feature names and their corresponding countvectorizer objects\n",
    "#The standard_dict_num is a dictionary of numerical feature names and their corresponding standardscalar objects\n",
    "#if the training data is provided the function will add values to the dectionaries standard_dict_cat,standard_dict_num\n",
    "# Initially both the dectionaries will be initialized as <'feature_name':0>\n",
    "# The value will be filled in the train process\n",
    "# The same dictionaries will be used with the test/cv to transform data\n",
    "\n",
    "\n",
    "def standardize_data(dataframe, tag, standard_dict_cat, standard_dict_num):\n",
    "    #if the training data is passed with 0 initialized dectionaries\n",
    "    if tag == 1:\n",
    "        #Initialize the feature list\n",
    "        features = []\n",
    "        #Initialize the array for hstacking in the end\n",
    "        array = []\n",
    "        #convert categorical features to one hot encoding using countvectorizer\n",
    "        for cat in standard_dict_cat.keys():\n",
    "            #initialize the vectorizer\n",
    "            vectorizer = CountVectorizer()\n",
    "            #fit and transform train data\n",
    "            X = vectorizer.fit_transform(dataframe[cat])\n",
    "            #get feature names\n",
    "            Z = vectorizer.get_feature_names()\n",
    "            #add vectorizer to the dectionary\n",
    "            standard_dict_cat[cat] = vectorizer\n",
    "            #add features to the feature array\n",
    "            features.extend(Z)\n",
    "            #add data to the np array\n",
    "            array.append(X)\n",
    "        #scale numerical features using standardscalar\n",
    "        for num in standard_dict_num.keys():\n",
    "            #initialize the standardscalar\n",
    "            scaler = StandardScaler()\n",
    "            #fit and transform train data\n",
    "            X = scaler.fit_transform(dataframe[num].values.reshape(-1, 1))\n",
    "            #add scalar to the dectionary\n",
    "            standard_dict_num[num] = scaler\n",
    "            #add features to the feature array\n",
    "            features.append(num)\n",
    "            #add data to the np array\n",
    "            array.append(X)\n",
    "\n",
    "        #preparing np array for returing\n",
    "        data_stand = sparse.hstack(\n",
    "            (array[0], array[1], array[2], array[3], array[4], array[5],\n",
    "             array[6], array[7], array[8], array[9], array[10], array[11],\n",
    "             array[12], array[13], array[14], array[15], array[16], array[17],\n",
    "             array[18], array[19], array[20], array[21], array[22], array[23],\n",
    "             array[24], array[25], array[26], array[27], array[28], array[29],\n",
    "             array[30], array[31], array[32], array[33]))\n",
    "        #return data and the features\n",
    "        return data_stand, features\n",
    "    if tag == 0:\n",
    "        #Initialize the feature list\n",
    "        features = []\n",
    "        #Initialize the array for hstacking in the end\n",
    "        array = []\n",
    "        #convert categorical features to one hot encoding using countvectorizer\n",
    "        for cat in standard_dict_cat.keys():\n",
    "            #transform train data\n",
    "            X = standard_dict_cat[cat].transform(dataframe[cat])\n",
    "            #get feature names\n",
    "            Z = standard_dict_cat[cat].get_feature_names()\n",
    "            #add features to the feature array\n",
    "            features.extend(Z)\n",
    "            #add data to the np array\n",
    "            array.append(X)\n",
    "        #scale numerical features using standardscalar\n",
    "        for num in standard_dict_num.keys():\n",
    "            #transform train data\n",
    "            X = standard_dict_num[num].transform(dataframe[num].values.reshape(\n",
    "                -1, 1))\n",
    "            #add features to the feature array\n",
    "            features.append(num)\n",
    "            #add data to the np array\n",
    "            array.append(X)\n",
    "\n",
    "        #preparing np array for returing\n",
    "        data_stand = sparse.hstack(\n",
    "            (array[0], array[1], array[2], array[3], array[4], array[5],\n",
    "             array[6], array[7], array[8], array[9], array[10], array[11],\n",
    "             array[12], array[13], array[14], array[15], array[16], array[17],\n",
    "             array[18], array[19], array[20], array[21], array[22], array[23],\n",
    "             array[24], array[25], array[26], array[27], array[28], array[29],\n",
    "             array[30], array[31], array[32], array[33]))\n",
    "\n",
    "        #return data and the features\n",
    "        return data_stand, features\n",
    "    else:\n",
    "        return 'Please input a valid tag'"
   ]
  },
  {
   "cell_type": "code",
   "execution_count": 63,
   "metadata": {},
   "outputs": [
    {
     "name": "stdout",
     "output_type": "stream",
     "text": [
      "['age', 'job', 'marital', 'education', 'default', 'housing', 'loan', 'contact', 'month', 'day_of_week', 'duration', 'campaign', 'pdays', 'previous', 'poutcome', 'emp.var.rate', 'cons.price.idx', 'cons.conf.idx', 'euribor3m', 'nr.employed', 'pdays_cat', 'cons.price.idx_cat', 'cons.conf.idx_cat', 'nr.employed_cat', 'age_sin', 'duration_sin', 'campaign_sin', 'pdays_sin', 'previous_sin', 'emp.var.rate_sin', 'cons.price.idx_sin', 'cons.conf.idx_sin', 'euribor3m_sin', 'nr.employed_sin']\n"
     ]
    }
   ],
   "source": [
    "#get all cols of the data\n",
    "cols = list(df_Train.columns)\n",
    "print(cols)"
   ]
  },
  {
   "cell_type": "code",
   "execution_count": 64,
   "metadata": {},
   "outputs": [
    {
     "name": "stdout",
     "output_type": "stream",
     "text": [
      "cols_cat\n",
      "['job', 'marital', 'education', 'default', 'housing', 'loan', 'contact', 'month', 'day_of_week', 'poutcome', 'pdays_cat', 'cons.price.idx_cat', 'cons.conf.idx_cat', 'nr.employed_cat'] 14\n",
      "cols_num\n",
      "['age', 'duration', 'campaign', 'pdays', 'previous', 'emp.var.rate', 'cons.price.idx', 'cons.conf.idx', 'euribor3m', 'nr.employed', 'age_sin', 'duration_sin', 'campaign_sin', 'pdays_sin', 'previous_sin', 'emp.var.rate_sin', 'cons.price.idx_sin', 'cons.conf.idx_sin', 'euribor3m_sin', 'nr.employed_sin'] 20\n",
      "standard_dict_cat\n",
      "{'job': 0, 'marital': 0, 'education': 0, 'default': 0, 'housing': 0, 'loan': 0, 'contact': 0, 'month': 0, 'day_of_week': 0, 'poutcome': 0, 'pdays_cat': 0, 'cons.price.idx_cat': 0, 'cons.conf.idx_cat': 0, 'nr.employed_cat': 0}\n",
      "standard_dict_num\n",
      "{'age': 0, 'duration': 0, 'campaign': 0, 'pdays': 0, 'previous': 0, 'emp.var.rate': 0, 'cons.price.idx': 0, 'cons.conf.idx': 0, 'euribor3m': 0, 'nr.employed': 0, 'age_sin': 0, 'duration_sin': 0, 'campaign_sin': 0, 'pdays_sin': 0, 'previous_sin': 0, 'emp.var.rate_sin': 0, 'cons.price.idx_sin': 0, 'cons.conf.idx_sin': 0, 'euribor3m_sin': 0, 'nr.employed_sin': 0}\n"
     ]
    }
   ],
   "source": [
    "#categorical features\n",
    "cols_cat = [\n",
    "    'job', 'marital', 'education', 'default', 'housing', 'loan', 'contact',\n",
    "    'month', 'day_of_week', 'poutcome', 'pdays_cat', 'cons.price.idx_cat',\n",
    "    'cons.conf.idx_cat', 'nr.employed_cat'\n",
    "]\n",
    "print('cols_cat')\n",
    "print(cols_cat,len(cols_cat))\n",
    "\n",
    "#numerical features\n",
    "cols_num = [\n",
    "    'age', 'duration', 'campaign', 'pdays', 'previous', 'emp.var.rate',\n",
    "    'cons.price.idx', 'cons.conf.idx', 'euribor3m', 'nr.employed', 'age_sin',\n",
    "    'duration_sin', 'campaign_sin', 'pdays_sin', 'previous_sin',\n",
    "    'emp.var.rate_sin', 'cons.price.idx_sin', 'cons.conf.idx_sin',\n",
    "    'euribor3m_sin', 'nr.employed_sin'\n",
    "]\n",
    "print('cols_num')\n",
    "print(cols_num,len(cols_num))\n",
    "\n",
    "#initializing the standard_dict_cat dectionary\n",
    "standard_dict_cat = dict.fromkeys(cols_cat,0)\n",
    "print('standard_dict_cat')\n",
    "print(standard_dict_cat)\n",
    "\n",
    "#initializing the standard_dict_num dectionary\n",
    "standard_dict_num = dict.fromkeys(cols_num,0)\n",
    "print('standard_dict_num')\n",
    "print(standard_dict_num)"
   ]
  },
  {
   "cell_type": "code",
   "execution_count": 65,
   "metadata": {},
   "outputs": [],
   "source": [
    "#standerdizing train data\n",
    "x_train, train_features = standardize_data(df_Train, 1, standard_dict_cat, standard_dict_num)\n",
    "#standerdizing cv data\n",
    "x_cv, cv_features = standardize_data(df_CV, 0, standard_dict_cat, standard_dict_num)\n",
    "#standerdizing test data\n",
    "x_test, test_features= standardize_data(df_Test, 0, standard_dict_cat, standard_dict_num)"
   ]
  },
  {
   "cell_type": "code",
   "execution_count": 66,
   "metadata": {},
   "outputs": [
    {
     "name": "stdout",
     "output_type": "stream",
     "text": [
      "True\n"
     ]
    }
   ],
   "source": [
    "#check if the feature names are same for train cv and test data\n",
    "if train_features == cv_features == test_features:\n",
    "    print(True)"
   ]
  },
  {
   "cell_type": "code",
   "execution_count": 67,
   "metadata": {
    "scrolled": true
   },
   "outputs": [
    {
     "name": "stdout",
     "output_type": "stream",
     "text": [
      "81\n",
      "['admin', 'blue_collar', 'entrepreneur', 'housemaid', 'management', 'retired', 'self_employed', 'services', 'student', 'technician', 'unemployed', 'unknown_job', 'divorced', 'married', 'single', 'unknown_marital', 'basic_4y', 'basic_6y', 'basic_9y', 'high_school', 'illiterate', 'professional_course', 'university_degree', 'unknown_education', 'no_default', 'unknown_default', 'yes_default', 'no_housing', 'unknown_housing', 'yes_housing', 'no_loan', 'unknown_loan', 'yes_loan', 'cellular', 'telephone', 'apr', 'aug', 'dec', 'jul', 'jun', 'mar', 'may', 'nov', 'oct', 'sep', 'fri', 'mon', 'thu', 'tue', 'wed', 'failure_poutcome', 'nonexistent_poutcome', 'success_poutcome', 'pdays_cat_no', 'pdays_cat_yes', 'cons_price_idx_no', 'cons_price_idx_yes', 'cons_conf_idx_cat_no', 'cons_conf_idx_cat_yes', 'nr_employed_cat_no', 'nr_employed_cat_yes', 'age', 'duration', 'campaign', 'pdays', 'previous', 'emp.var.rate', 'cons.price.idx', 'cons.conf.idx', 'euribor3m', 'nr.employed', 'age_sin', 'duration_sin', 'campaign_sin', 'pdays_sin', 'previous_sin', 'emp.var.rate_sin', 'cons.price.idx_sin', 'cons.conf.idx_sin', 'euribor3m_sin', 'nr.employed_sin']\n"
     ]
    }
   ],
   "source": [
    "#checking the shape and vales of train features\n",
    "print(len(train_features))\n",
    "print(train_features)"
   ]
  },
  {
   "cell_type": "code",
   "execution_count": 68,
   "metadata": {},
   "outputs": [
    {
     "name": "stdout",
     "output_type": "stream",
     "text": [
      "(20176, 81) (8647, 81) (12353, 81)\n"
     ]
    }
   ],
   "source": [
    "print(x_train.shape,x_cv.shape,x_test.shape)"
   ]
  },
  {
   "cell_type": "markdown",
   "metadata": {},
   "source": [
    "## Machine Learning Models"
   ]
  },
  {
   "cell_type": "code",
   "execution_count": 69,
   "metadata": {},
   "outputs": [
    {
     "name": "stdout",
     "output_type": "stream",
     "text": [
      "<class 'scipy.sparse.coo.coo_matrix'> <class 'scipy.sparse.coo.coo_matrix'> <class 'scipy.sparse.coo.coo_matrix'> <class 'numpy.ndarray'> <class 'numpy.ndarray'> <class 'numpy.ndarray'>\n"
     ]
    }
   ],
   "source": [
    "print(type(x_train),type(x_cv),type(x_test),type(Y_Train),type(Y_CV),type(Y_Test))"
   ]
  },
  {
   "cell_type": "code",
   "execution_count": 70,
   "metadata": {},
   "outputs": [],
   "source": [
    "X_Train = x_train.toarray()\n",
    "X_CV = x_cv.toarray()\n",
    "X_Test = x_test.toarray()"
   ]
  },
  {
   "cell_type": "code",
   "execution_count": 71,
   "metadata": {
    "scrolled": true
   },
   "outputs": [
    {
     "name": "stdout",
     "output_type": "stream",
     "text": [
      "<class 'numpy.ndarray'> <class 'numpy.ndarray'> <class 'numpy.ndarray'> <class 'numpy.ndarray'> <class 'numpy.ndarray'> <class 'numpy.ndarray'>\n"
     ]
    }
   ],
   "source": [
    "print(type(X_Train),type(X_CV),type(X_Test),type(Y_Train),type(Y_CV),type(Y_Test))"
   ]
  },
  {
   "cell_type": "markdown",
   "metadata": {},
   "source": [
    "### Training the Best Model"
   ]
  },
  {
   "cell_type": "code",
   "execution_count": 72,
   "metadata": {},
   "outputs": [
    {
     "data": {
      "text/plain": [
       "StackingClassifier(average_probas=False,\n",
       "                   classifiers=[LogisticRegression(C=0.001,\n",
       "                                                   class_weight='balanced',\n",
       "                                                   dual=False,\n",
       "                                                   fit_intercept=True,\n",
       "                                                   intercept_scaling=1,\n",
       "                                                   l1_ratio=None, max_iter=100,\n",
       "                                                   multi_class='warn',\n",
       "                                                   n_jobs=None, penalty='l2',\n",
       "                                                   random_state=42,\n",
       "                                                   solver='warn', tol=0.0001,\n",
       "                                                   verbose=0,\n",
       "                                                   warm_start=False),\n",
       "                                RandomForestClassifier(bootstrap=True,\n",
       "                                                       class_weight='bala...\n",
       "                   meta_classifier=LogisticRegression(C=0.01,\n",
       "                                                      class_weight='balanced',\n",
       "                                                      dual=False,\n",
       "                                                      fit_intercept=True,\n",
       "                                                      intercept_scaling=1,\n",
       "                                                      l1_ratio=None,\n",
       "                                                      max_iter=100,\n",
       "                                                      multi_class='warn',\n",
       "                                                      n_jobs=None, penalty='l2',\n",
       "                                                      random_state=42,\n",
       "                                                      solver='warn', tol=0.0001,\n",
       "                                                      verbose=0,\n",
       "                                                      warm_start=False),\n",
       "                   store_train_meta_features=False, use_clones=True,\n",
       "                   use_features_in_secondary=False, use_probas=False,\n",
       "                   verbose=0)"
      ]
     },
     "execution_count": 72,
     "metadata": {},
     "output_type": "execute_result"
    }
   ],
   "source": [
    "#lets define the ML model which is the best amongst all\n",
    "from mlxtend.classifier import StackingClassifier\n",
    "#defining the base classifiers\n",
    "lr = LogisticRegression(C = 0.001, class_weight = 'balanced', random_state=42)\n",
    "rf = RandomForestClassifier(n_estimators=200 ,max_depth=13, class_weight='balanced', bootstrap=True, n_jobs = -1, random_state=42)\n",
    "dt = DecisionTreeClassifier(max_depth=5, class_weight = 'balanced', random_state=42)\n",
    "clf_base = SGDClassifier(loss='hinge', penalty='l1', alpha = 0.001, class_weight = 'balanced', n_jobs = -1, random_state=42)\n",
    "svm = CalibratedClassifierCV(clf_base, method='isotonic')\n",
    "xgboost = xgb.XGBRFClassifier(n_estimators=250 ,max_depth=5, class_weight='balanced', bootstrap=True, n_jobs = -1, random_state=42)\n",
    "#Tuning the meta classifier with best hyperparameter\n",
    "meta_clf = LogisticRegression(C=0.01, class_weight='balanced', random_state=42)\n",
    "sclf = StackingClassifier(classifiers=[lr, rf, dt, svm, xgboost],\n",
    "                          meta_classifier=meta_clf)\n",
    "sclf.fit(X_Train, Y_Train)"
   ]
  },
  {
   "cell_type": "code",
   "execution_count": 73,
   "metadata": {},
   "outputs": [
    {
     "data": {
      "text/plain": [
       "<matplotlib.legend.Legend at 0x7fa72412a588>"
      ]
     },
     "execution_count": 73,
     "metadata": {},
     "output_type": "execute_result"
    },
    {
     "data": {
      "image/png": "[encoded data removed]",
      "text/plain": [
       "<Figure size 432x288 with 1 Axes>"
      ]
     },
     "metadata": {
      "needs_background": "light"
     },
     "output_type": "display_data"
    }
   ],
   "source": [
    "#getting the KPI values\n",
    "Y_Predicted_Train = sclf.predict_proba(X_Train)\n",
    "Y_Predicted_Train = Y_Predicted_Train[:,-1]\n",
    "Y_Predicted_Test = sclf.predict_proba(X_Test)\n",
    "Y_Predicted_Test = Y_Predicted_Test[:,-1]\n",
    "\n",
    "# Calculating the ROC values  \n",
    "fpr_Train, tpr_Train, thresholds_Train = roc_curve(Y_Train, Y_Predicted_Train)\n",
    "fpr_Test, tpr_Test, thresholds_Test = roc_curve(Y_Test, Y_Predicted_Test)\n",
    "\n",
    "#Plotting ROC Curve\n",
    "plt.plot(fpr_Test, tpr_Test, label='Test ROC')\n",
    "plt.plot(fpr_Train, tpr_Train, label='Train ROC')\n",
    "plt.plot([0,1], [0,1], label='Random ROC')\n",
    "plt.xlabel('FPR')\n",
    "plt.ylabel('TPR')\n",
    "plt.title(\"AUC-ROC Curve\")\n",
    "plt.legend()"
   ]
  },
  {
   "cell_type": "code",
   "execution_count": 74,
   "metadata": {},
   "outputs": [
    {
     "name": "stdout",
     "output_type": "stream",
     "text": [
      "The auc is:  0.969419563038023\n",
      "The log loss is:  0.21984594218898387\n",
      "The F1-Score is:  0.9569795456555172\n"
     ]
    }
   ],
   "source": [
    "#Printing the KPI values\n",
    "print('The auc is: ',roc_auc_score(Y_Test, Y_Predicted_Test))\n",
    "print('The log loss is: ',log_loss(Y_Test, Y_Predicted_Test))\n",
    "y_Predicted_Test = np.array(Y_Predicted_Test > 0.5, dtype=int)\n",
    "print('The F1-Score is: ',f1_score(Y_Test, y_Predicted_Test, average='weighted'))"
   ]
  },
  {
   "cell_type": "code",
   "execution_count": 75,
   "metadata": {},
   "outputs": [],
   "source": [
    "# save the model to disk\n",
    "filename = 'finalized_model.sav'\n",
    "pickle.dump(sclf, open(filename, 'wb'))"
   ]
  },
  {
   "cell_type": "code",
   "execution_count": 76,
   "metadata": {},
   "outputs": [],
   "source": [
    "#Initializing variables for future use\n",
    "stack_auc = roc_auc_score(Y_Test, Y_Predicted_Test)\n",
    "stack_loss = log_loss(Y_Test, Y_Predicted_Test)\n",
    "stack_f1_score = f1_score(Y_Test, y_Predicted_Test, average='weighted')"
   ]
  },
  {
   "cell_type": "code",
   "execution_count": 77,
   "metadata": {},
   "outputs": [
    {
     "name": "stdout",
     "output_type": "stream",
     "text": [
      "Total number of data points : 12353\n"
     ]
    },
    {
     "data": {
      "image/png": "[encoded data removed]",
      "text/plain": [
       "<Figure size 1440x288 with 6 Axes>"
      ]
     },
     "metadata": {
      "needs_background": "light"
     },
     "output_type": "display_data"
    }
   ],
   "source": [
    "#Plot the Confusion Matrix\n",
    "predicted_y = np.array(Y_Predicted_Test > 0.5, dtype=int)\n",
    "print(\"Total number of data points :\", len(Y_Predicted_Test))\n",
    "plot_confusion_matrix(Y_Test, y_Predicted_Test)"
   ]
  },
  {
   "cell_type": "markdown",
   "metadata": {},
   "source": [
    "__Conclusions__\n",
    "\n",
    "- The model performs reasonably well with f1_score = 0.9569\n",
    "- The True Negative values are high\n",
    "- The True Positive values are decent\n",
    "- The False Negatives are less\n",
    "- The False Positives are decent"
   ]
  },
  {
   "cell_type": "markdown",
   "metadata": {},
   "source": [
    "## Conclusions"
   ]
  },
  {
   "cell_type": "markdown",
   "metadata": {},
   "source": [
    "__The Problem__\n",
    "\n",
    "- The Problem that we intent to present is 'Predicting Telephonic Marketing Outcome for Bank Term Deposit'\n",
    "- The problem link is https://archive.ics.uci.edu/ml/datasets/Bank+Marketing\n",
    "- The Dataset was collected From a Portuguese Bank from May 2008 to November 2010 \n",
    "- The Mode of Marketing was telephonic \n",
    "- The product that the Bank pitched to its customers was 'bank term deposit'\n",
    "- We tried to predict weather a customer would subscribe the pitched product or not\n",
    "\n",
    "__The Dataset__\n",
    "\n",
    "- The Dataset had 20 attributes (10 numeral and 10 categorical)\n",
    "- The Dataset contained missing values in the categorical data but they were encoded as 'unknown'\n",
    "- We replaced the 'unknown' label with their appropriate names\n",
    "- The Dataset was highly unbalanced with 11.27% positive points and 88.73% negative points\n",
    "\n",
    "__The KPI__\n",
    "\n",
    "- The KPI that we tracked in this case are F1-Score, AUC, Log-Loss\n",
    "\n",
    "__The Models__\n",
    "\n",
    "- On the Datasets we Trained The corresponding ML Models\n",
    "- 1. Logistic Regression\n",
    "- 2. Naive Bayes\n",
    "- 3. Linear SVM\n",
    "- 4. Decision Tree\n",
    "- 5. Random Forest\n",
    "- 6. XGBoost\n",
    "- 7. Simple Neural Network\n",
    "- 8. Stacking Classifier\n",
    "- 9. Voting Classifier\n",
    "\n",
    "__Feature Engineering__\n",
    "\n",
    "- For each numeral feature we added sin(feature) to the Dataset\n",
    "- For each numeral Feature we trained a 'Decision Stump' and got the weighted F1-Score of the Model\n",
    "- If the F1-Score was greater than 0.85 we converted the numeral feature to categorical feature based on the 'Decision Stump' thresholds\n",
    "\n",
    "__Different Approaches and Experimentation__\n",
    "\n",
    "- Now from the Dataset we have the engineered sine features and the engineered Categorical Features\n",
    "- From this we Experimented the Models with 4 approaches\n",
    "- Approach 1. Train the Models without any Feature Engineering(Only on the 20 base Features)\n",
    "- Approach 2. Train the Models on Base Features and the Sine Features(20 base Features and 10 sine Features)\n",
    "- Approach 3. Train the Models on Base Features and the Engineered Categorical Features (20 base Features and 4 engineered categorical Features)\n",
    "- Approach 4. Train the Models on Base Features, the Sine Features and the Engineered Categorical Features (20 base Features, 10 sine Features and 4 engineered categorical Features)\n",
    "\n",
    "__After Experimenting with all the approaches the results are as follows__"
   ]
  },
  {
   "cell_type": "code",
   "execution_count": 1,
   "metadata": {},
   "outputs": [
    {
     "name": "stdout",
     "output_type": "stream",
     "text": [
      "+--------------------------------------------------------------------------+-----------------------+----------+\n",
      "|                           Engineered Features                            | Best Classifier Model | F1-Score |\n",
      "+--------------------------------------------------------------------------+-----------------------+----------+\n",
      "|                             20 base Features                             |   XGBoost Classifier  | 0.91257  |\n",
      "|                  20 base Features and 10 sine Features                   |   Voting Classifier   | 0.91237  |\n",
      "|          20 base Features and 4 engineered categorical Features          |  Stacking Classifier  | 0.94928  |\n",
      "| 20 base Features, 10 sine Features and 4 engineered categorical Features |  Stacking Classifier  | 0.95697  |\n",
      "+--------------------------------------------------------------------------+-----------------------+----------+\n"
     ]
    }
   ],
   "source": [
    "from prettytable import PrettyTable\n",
    "x = PrettyTable()\n",
    "\n",
    "x.field_names = [\"Engineered Features\", \"Best Classifier Model\", \"F1-Score\"]\n",
    "\n",
    "x.add_row([\"20 base Features\", \"XGBoost Classifier\", 0.91257])\n",
    "x.add_row([\"20 base Features and 10 sine Features\", \"Voting Classifier\", 0.91237])\n",
    "x.add_row([\"20 base Features and 4 engineered categorical Features\", \"Stacking Classifier\", 0.94928])\n",
    "x.add_row([\"20 base Features, 10 sine Features and 4 engineered categorical Features\", \"Stacking Classifier\", 0.95697])\n",
    "print(x)"
   ]
  },
  {
   "cell_type": "markdown",
   "metadata": {},
   "source": [
    "__Conclusions__\n",
    "- From the Above Table we see that the Stacking Classifier applied on all Features performs the best with weighted F1-Score of 0.9569\n",
    "- After comparing the Confusion Matrix for all the models, we can observe that The Confusion Matrix of Stacking Model applied on all the features is the Best\n",
    "- Also the stacking Classifier applied on all the features has very less false negative values which is very good as the Model will not mark positive points as negative points and hence the Bank will not loose many genuine customers in the Marketing Process\n",
    "- The Precession for the positives points is 0.716 for the best Model and this means that Out of the Points that the model marked as Positive points around 70% of them are genuine\n",
    "- Thus we were able to classify the given Bank Marketing Dataset"
   ]
  },
  {
   "cell_type": "markdown",
   "metadata": {},
   "source": [
    "## References"
   ]
  },
  {
   "cell_type": "markdown",
   "metadata": {},
   "source": [
    "- Applied AI Course\n",
    "- https://www.kaggle.com/nextbigwhat/eda-for-categorical-variables-a-beginner-s-way\n",
    "- https://pandas.pydata.org/pandas-docs/stable/reference/api/pandas.DataFrame.replace.html\n",
    "- https://seaborn.pydata.org/generated/seaborn.pairplot.html\n",
    "- https://www.geeksforgeeks.org/permutation-and-combination-in-python/\n",
    "- https://seaborn.pydata.org/examples/distplot_options.html\n",
    "- https://stackoverflow.com/questions/14770735/how-do-i-change-the-figure-size-with-subplots\n",
    "- https://scikit-learn.org/stable/modules/generated/sklearn.tree.DecisionTreeClassifier.html\n",
    "- https://scikit-learn.org/stable/modules/generated/sklearn.model_selection.train_test_split.html\n",
    "- https://scikit-learn.org/stable/modules/generated/sklearn.preprocessing.LabelEncoder.html\n",
    "- https://towardsdatascience.com/how-to-visualize-a-decision-tree-in-5-steps-19781b28ffe2\n",
    "- https://towardsdatascience.com/visualizing-decision-trees-with-python-scikit-learn-graphviz-matplotlib-1c50b4aa68dc\n",
    "- https://scikit-learn.org/stable/modules/generated/sklearn.tree.plot_tree.html\n",
    "- https://stackoverflow.com/questions/46659073/change-numerical-data-to-categorical-data-pandas\n",
    "- https://thispointer.com/python-how-to-use-if-else-elif-in-lambda-functions/\n",
    "- https://pandas.pydata.org/pandas-docs/stable/reference/api/pandas.Series.apply.html\n",
    "- https://stackoverflow.com/questions/13331698/how-to-apply-a-function-to-two-columns-of-pandas-dataframe\n",
    "- https://towardsdatascience.com/scale-standardize-or-normalize-with-scikit-learn-6ccc7d176a02\n",
    "- https://towardsdatascience.com/normalization-vs-standardization-quantitative-analysis-a91e8a79cebf\n",
    "- https://www.kaggle.com/discdiver/guide-to-scaling-and-standardizing\n",
    "- https://scikit-learn.org/stable/auto_examples/preprocessing/plot_all_scaling.html\n",
    "- https://sebastianraschka.com/Articles/2014_about_feature_scaling.html\n",
    "- https://scikit-learn.org/stable/modules/generated/sklearn.preprocessing.StandardScaler.html\n",
    "- https://scikit-learn.org/stable/modules/generated/sklearn.feature_extraction.text.CountVectorizer.html\n",
    "- https://stackoverflow.com/questions/52410880/is-there-a-way-i-can-initialize-dictionary-values-to-0-in-python-taking-keys-fro\n",
    "- https://stackoverflow.com/questions/22257836/numpy-hstack-valueerror-all-the-input-arrays-must-have-same-number-of-dimens\n",
    "- https://stackoverflow.com/questions/26576524/how-do-i-transform-a-scipy-sparse-matrix-to-a-numpy-matrix\n",
    "- https://docs.scipy.org/doc/numpy/reference/generated/numpy.hstack.html\n",
    "- https://www.geeksforgeeks.org/append-extend-python/\n",
    "- https://scikit-learn.org/stable/modules/generated/sklearn.metrics.roc_auc_score.html\n",
    "- https://scikit-learn.org/stable/modules/generated/sklearn.svm.SVC.html\n",
    "- https://scikit-learn.org/stable/modules/naive_bayes.html#naive-bayes\n",
    "- https://www.tensorflow.org/versions/r1.15/api_docs/python/tf/keras/Input\n",
    "- https://machinelearningmastery.com/keras-functional-api-deep-learning/\n",
    "- https://github.com/pranaysawant/Zomato-Restaurant-Rate-Prediction/blob/master/Zomato%20Restaurant%20Rating%20Prediction.ipynb\n",
    "- https://datascience.stackexchange.com/questions/13490/how-to-set-class-weights-for-imbalanced-classes-in-keras\n",
    "- https://datascience.stackexchange.com/questions/45165/how-to-get-accuracy-f1-precision-and-recall-for-a-keras-model\n",
    "- https://machinelearningmastery.com/display-deep-learning-model-training-history-in-keras/\n",
    "- http://rasbt.github.io/mlxtend/api_subpackages/mlxtend.classifier/\n",
    "- https://machinelearningmastery.com/save-load-machine-learning-models-python-scikit-learn/"
   ]
  }
 ],
 "metadata": {
  "kernelspec": {
   "display_name": "Python 3",
   "language": "python",
   "name": "python3"
  },
  "language_info": {
   "codemirror_mode": {
    "name": "ipython",
    "version": 3
   },
   "file_extension": ".py",
   "mimetype": "text/x-python",
   "name": "python",
   "nbconvert_exporter": "python",
   "pygments_lexer": "ipython3",
   "version": "3.7.3"
  },
  "toc": {
   "base_numbering": 1,
   "nav_menu": {},
   "number_sections": true,
   "sideBar": true,
   "skip_h1_title": true,
   "title_cell": "Table of Contents",
   "title_sidebar": "Contents",
   "toc_cell": true,
   "toc_position": {},
   "toc_section_display": true,
   "toc_window_display": true
  },
  "varInspector": {
   "cols": {
    "lenName": 16,
    "lenType": 16,
    "lenVar": 40
   },
   "kernels_config": {
    "python": {
     "delete_cmd_postfix": "",
     "delete_cmd_prefix": "del ",
     "library": "var_list.py",
     "varRefreshCmd": "print(var_dic_list())"
    },
    "r": {
     "delete_cmd_postfix": ") ",
     "delete_cmd_prefix": "rm(",
     "library": "var_list.r",
     "varRefreshCmd": "cat(var_dic_list()) "
    }
   },
   "types_to_exclude": [
    "module",
    "function",
    "builtin_function_or_method",
    "instance",
    "_Feature"
   ],
   "window_display": false
  }
 },
 "nbformat": 4,
 "nbformat_minor": 2
}
